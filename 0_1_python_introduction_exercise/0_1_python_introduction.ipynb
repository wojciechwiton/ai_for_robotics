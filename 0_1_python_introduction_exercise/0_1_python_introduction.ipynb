{
 "cells": [
  {
   "cell_type": "markdown",
   "metadata": {
    "deletable": true,
    "editable": true
   },
   "source": [
    "# Python Introduction\n",
    "\n",
    "Open a terminal!\n",
    "\n",
    "Start python with:\n",
    "```\n",
    "python\n",
    "```"
   ]
  },
  {
   "cell_type": "code",
   "execution_count": null,
   "metadata": {
    "deletable": true,
    "editable": true
   },
   "outputs": [],
   "source": [
    "print(\"Welcome to AI for robotics!\")"
   ]
  },
  {
   "cell_type": "markdown",
   "metadata": {
    "deletable": true,
    "editable": true
   },
   "source": [
    "## Basic Operations"
   ]
  },
  {
   "cell_type": "code",
   "execution_count": null,
   "metadata": {
    "deletable": true,
    "editable": true
   },
   "outputs": [],
   "source": [
    "# Assign integer values to a and b\n",
    "a = 5\n",
    "b = 2\n",
    "\n",
    "# Integer division \n",
    "a_devided_by_b = a / b\n",
    "print(\"a / b: {}\".format(a_devided_by_b))\n",
    "\n",
    "# Cast integer to float\n",
    "a_devided_by_b = float(a) / b\n",
    "print(\"float (a) / b: {}\".format(a_devided_by_b))\n",
    "\n",
    "# Or we can also define the variables as floating point instances by just setting\n",
    "b = 2.0\n",
    "a_devided_by_b = a / b\n",
    "print(\"a / b: {}\".format(a_devided_by_b))\n",
    "\n",
    "# b to the power of 3, re-assigned to b. (b = b^3)\n",
    "b **= 3\n",
    "print(\"b: {}\".format(b))"
   ]
  },
  {
   "cell_type": "markdown",
   "metadata": {
    "deletable": true,
    "editable": true
   },
   "source": [
    "## Use ipython for quickly testing things\n",
    "\n",
    "If you haven't installed it yet, you can do so by:\n",
    "\n",
    "```\n",
    "sudo apt-get install ipython\n",
    "```\n",
    "### Or notebooks\n",
    "\n",
    "Try to run this notebook.\n",
    "\n",
    "Clone our exercise repo:\n",
    "\n",
    "```\n",
    "git clone https://github.com/ethz-asl/ai_for_robotics.git\n",
    "```\n",
    "Then go into this folder and start a notebook:\n",
    "```\n",
    "cd ai_for_robotics\n",
    "jupyter notebook\n",
    "```\n",
    "\n",
    "If you haven't installed it yet, you can do so by:\n",
    "```\n",
    "sudo pip install jupyter\n",
    "```\n",
    "\n",
    "Then your browser should start (or open a new tab if it's already open). Go to the `0_1_python_introduction_exercise` folder and open the notebook `0_1_python_introduction.ipynb`. You should now see this notebook in your browser."
   ]
  },
  {
   "cell_type": "code",
   "execution_count": null,
   "metadata": {
    "deletable": true,
    "editable": true
   },
   "outputs": [],
   "source": [
    "from IPython.display import Image\n",
    "Image(filename='ipython.png')"
   ]
  },
  {
   "cell_type": "markdown",
   "metadata": {
    "deletable": true,
    "editable": true
   },
   "source": [
    "## Data structures"
   ]
  },
  {
   "cell_type": "markdown",
   "metadata": {
    "deletable": true,
    "editable": true
   },
   "source": [
    "### Lists"
   ]
  },
  {
   "cell_type": "code",
   "execution_count": null,
   "metadata": {
    "deletable": true,
    "editable": true
   },
   "outputs": [],
   "source": [
    "# Create lists\n",
    "string_list = ['one', 'two', 'three']\n",
    "float_list = [1.3, 4.56, 1.999, 30.1, 6.23, 900.1]\n",
    "mixed_list = []\n",
    "mixed_list.append('a')\n",
    "mixed_list += [4.4, 'b', 2.3, (0, 4.5)]  # (0, 4.5) is a tuple.\n",
    "print(mixed_list)\n",
    "print(\"length of mixed_list: {}\".format(len(mixed_list)))\n",
    "\n",
    "# Accessing list members\n",
    "print(\"mixed_list[3]: {}\".format(mixed_list[3]))\n",
    "print(\"string_list[-1]: {}\".format(string_list[-1]))\n",
    "print(\"float_list[0:3]: {}\".format(float_list[0:3]))\n",
    "\n"
   ]
  },
  {
   "cell_type": "markdown",
   "metadata": {
    "deletable": true,
    "editable": true
   },
   "source": [
    "### Dictionaries"
   ]
  },
  {
   "cell_type": "code",
   "execution_count": null,
   "metadata": {
    "deletable": true,
    "editable": true
   },
   "outputs": [],
   "source": [
    "# Creating an empty dictionary\n",
    "dict = {}\n",
    "# Inserting key (one) value(2) pairs\n",
    "dict['one'] = 2\n",
    "dict[string_list[1]] = 5\n",
    "dict['list'] = mixed_list\n",
    "print(dict)\n",
    "print(\"keys: {}, values: {}\".format(dict.keys(), dict.values()))\n",
    "print(dict['list'][4][1])"
   ]
  },
  {
   "cell_type": "markdown",
   "metadata": {
    "deletable": true,
    "editable": true
   },
   "source": [
    "## Loops\n",
    "\n",
    "As in most programming languages there are **for** and **while** loops."
   ]
  },
  {
   "cell_type": "markdown",
   "metadata": {
    "deletable": true,
    "editable": true
   },
   "source": [
    "### 'for' loops"
   ]
  },
  {
   "cell_type": "code",
   "execution_count": null,
   "metadata": {
    "deletable": true,
    "editable": true
   },
   "outputs": [],
   "source": [
    "for i in range(5):\n",
    "    print(i)"
   ]
  },
  {
   "cell_type": "code",
   "execution_count": null,
   "metadata": {
    "deletable": true,
    "editable": true
   },
   "outputs": [],
   "source": [
    "for elem in string_list:\n",
    "    print(elem)"
   ]
  },
  {
   "cell_type": "code",
   "execution_count": null,
   "metadata": {
    "deletable": true,
    "editable": true
   },
   "outputs": [],
   "source": [
    "int_list = range(1,4)\n",
    "zipped = zip(string_list, int_list)\n",
    "print(\"{}\\n\".format(zipped))\n",
    "for s, i in zipped:\n",
    "    print(\"string: {}, integer: {}\".format(s, i))\n",
    "print(\"\")    \n",
    "for idx, tup in enumerate(zipped):\n",
    "    print(\"idx: {}, tuple: {}\".format(idx, tup))"
   ]
  },
  {
   "cell_type": "markdown",
   "metadata": {
    "deletable": true,
    "editable": true
   },
   "source": [
    "### 'while' loops"
   ]
  },
  {
   "cell_type": "code",
   "execution_count": null,
   "metadata": {
    "deletable": true,
    "editable": true
   },
   "outputs": [],
   "source": [
    "i = 0\n",
    "while (True):\n",
    "    if type(mixed_list[i]) is float:\n",
    "        print(\"elem {}: {}\".format(i,mixed_list[i]))\n",
    "    else:\n",
    "        print(\"elem {}: {} is not a float, it's: {}.\".format(i, mixed_list[i], type(mixed_list[i])))\n",
    "    i += 1\n",
    "    if i >= len(mixed_list):\n",
    "        break"
   ]
  },
  {
   "cell_type": "code",
   "execution_count": null,
   "metadata": {
    "deletable": true,
    "editable": true
   },
   "outputs": [],
   "source": [
    "a = range(5)\n",
    "b = range(-2,3)\n",
    "for a_elem, b_elem in zip(a,b):\n",
    "    print(\"trying to divide {}/{}\".format(a_elem, b_elem))\n",
    "    try:\n",
    "        print(a_elem / b_elem)\n",
    "    except:\n",
    "        print(\"Don't divide by zero!\")"
   ]
  },
  {
   "cell_type": "markdown",
   "metadata": {
    "deletable": true,
    "editable": true
   },
   "source": [
    "### Python inline for loops and clauses"
   ]
  },
  {
   "cell_type": "code",
   "execution_count": null,
   "metadata": {
    "deletable": true,
    "editable": true
   },
   "outputs": [],
   "source": [
    "a = range(1,5)\n",
    "print(\"a: {}\".format(a))\n",
    "b = [x*2 for x in a if x % 2 == 0]\n",
    "print(\"b: {}\".format(b))"
   ]
  },
  {
   "cell_type": "markdown",
   "metadata": {
    "deletable": true,
    "editable": true
   },
   "source": [
    "## Numpy\n",
    "\n",
    "Numpy is used for vector and matrix operations and is similar in its usage to Matlab.\n",
    "Except for:\n",
    "- indices starting at 0 and\n",
    "- selecting ranges, i.e. x[0:2], gives you [x[0], x[1]]."
   ]
  },
  {
   "cell_type": "markdown",
   "metadata": {
    "deletable": true,
    "editable": true
   },
   "source": [
    "### Matrizes"
   ]
  },
  {
   "cell_type": "code",
   "execution_count": null,
   "metadata": {
    "deletable": true,
    "editable": true
   },
   "outputs": [],
   "source": [
    "import numpy as np\n",
    "\n",
    "a = np.arange(0, 3, 0.4)\n",
    "print(a)\n",
    "print(\"\\na shape: {}\".format(a.shape))"
   ]
  },
  {
   "cell_type": "code",
   "execution_count": null,
   "metadata": {
    "deletable": true,
    "editable": true
   },
   "outputs": [],
   "source": [
    "M = np.ones([4, 8])\n",
    "print(M)\n",
    "print(\"\\nM shape: {}\".format(M.shape))"
   ]
  },
  {
   "cell_type": "markdown",
   "metadata": {
    "deletable": true,
    "editable": true
   },
   "source": [
    "### Matrix / elementwise muliplication"
   ]
  },
  {
   "cell_type": "code",
   "execution_count": null,
   "metadata": {
    "deletable": true,
    "editable": true
   },
   "outputs": [],
   "source": [
    "# Standard * operator conducts an elementwise multiplication, the same as np.multiply(...)\n",
    "elementmul_result = M * a\n",
    "print(\"Elementwise multiplication: \\n{}\".format(elementmul_result))\n",
    "# !!!! Matrix multiplication is np.dot(...) !!!!\n",
    "matmul_result = np.dot(M,a)\n",
    "print(\"Matrix multiplication: \\n{}\".format(matmul_result))"
   ]
  },
  {
   "cell_type": "code",
   "execution_count": null,
   "metadata": {
    "deletable": true,
    "editable": true
   },
   "outputs": [],
   "source": [
    "Q = np.array([[1, 2, 3], [4, 5, 6]])\n",
    "x = np.array([[2, 2]])\n",
    "y = np.array([[3, 3, 3]])\n",
    "print(\"Shapes: Q: {} \\t x: {}, \\t y: {}\".format(Q.shape, x.shape, y.shape))\n",
    "result = np.dot( np.dot(x, Q), y.T)\n",
    "print(\"Result: {}\".format(result))"
   ]
  },
  {
   "cell_type": "markdown",
   "metadata": {
    "deletable": true,
    "editable": true
   },
   "source": [
    "### Invert matrizes"
   ]
  },
  {
   "cell_type": "code",
   "execution_count": null,
   "metadata": {
    "deletable": true,
    "editable": true
   },
   "outputs": [],
   "source": [
    "D = np.diag([1, 2, 3, 4])\n",
    "print(\"D = \\n{} \\nD_inv = \\n{}\".format(D, np.linalg.inv(D)))"
   ]
  },
  {
   "cell_type": "markdown",
   "metadata": {
    "deletable": true,
    "editable": true
   },
   "source": [
    "### Max / Argmax"
   ]
  },
  {
   "cell_type": "code",
   "execution_count": null,
   "metadata": {
    "deletable": true,
    "editable": true
   },
   "outputs": [],
   "source": [
    "maxima = np.max(D, axis=1)\n",
    "print(\"Max: {}\".format(maxima))\n",
    "max_index = np.argmax(D, axis=1)\n",
    "print(\"Argmax: {}\".format(max_index))"
   ]
  },
  {
   "cell_type": "markdown",
   "metadata": {
    "deletable": true,
    "editable": true
   },
   "source": [
    "### Multi-dimensional indexing"
   ]
  },
  {
   "cell_type": "code",
   "execution_count": null,
   "metadata": {
    "deletable": true,
    "editable": true
   },
   "outputs": [],
   "source": [
    "random_int_matrix = np.zeros([3,4])\n",
    "\n",
    "for ix in range(random_int_matrix.shape[0]):\n",
    "    for iy in range(random_int_matrix.shape[1]):\n",
    "        random_int_matrix[ix, iy] = np.random.randint(0, 5)\n",
    "print(random_int_matrix)\n",
    "        \n",
    "    "
   ]
  },
  {
   "cell_type": "code",
   "execution_count": null,
   "metadata": {
    "deletable": true,
    "editable": true
   },
   "outputs": [],
   "source": [
    "print(random_int_matrix[:,1:])"
   ]
  },
  {
   "cell_type": "code",
   "execution_count": null,
   "metadata": {
    "deletable": true,
    "editable": true
   },
   "outputs": [],
   "source": [
    "print(random_int_matrix[:-1, 1])"
   ]
  },
  {
   "cell_type": "markdown",
   "metadata": {
    "deletable": true,
    "editable": true
   },
   "source": [
    "### Reshape\n"
   ]
  },
  {
   "cell_type": "code",
   "execution_count": null,
   "metadata": {
    "deletable": true,
    "editable": true
   },
   "outputs": [],
   "source": [
    "a = np.array([[1,2], [3,4]])\n",
    "b = np.array([[5,6], [7,8]])\n",
    "c = np.array([[9,10], [11,12]])\n",
    "print(\"a\\n {}\\n\".format(a))\n",
    "print(\"b\\n {}\\n\".format(b))\n",
    "print(\"c\\n {}\\n\".format(c))"
   ]
  },
  {
   "cell_type": "code",
   "execution_count": null,
   "metadata": {
    "deletable": true,
    "editable": true
   },
   "outputs": [],
   "source": [
    "tensor = np.array([a, b, c])\n",
    "print(tensor)\n",
    "print(\"\\ntensor shape: {}\".format(tensor.shape))"
   ]
  },
  {
   "cell_type": "code",
   "execution_count": null,
   "metadata": {
    "deletable": true,
    "editable": true
   },
   "outputs": [],
   "source": [
    "tensor_reshaped = np.reshape(tensor, [12])\n",
    "print(tensor_reshaped)"
   ]
  },
  {
   "cell_type": "markdown",
   "metadata": {
    "deletable": true,
    "editable": true
   },
   "source": [
    "## Functions\n",
    "Functions can take any arbitrary amount of arguments and are defined the following way."
   ]
  },
  {
   "cell_type": "code",
   "execution_count": null,
   "metadata": {
    "deletable": true,
    "editable": true
   },
   "outputs": [],
   "source": [
    "def addOne(x):\n",
    "    return x + 1\n",
    "\n",
    "print(\"addOne(1): {}\\n\".format(addOne(1)))\n",
    "\n",
    "def multiply(x, y):\n",
    "    return x * y\n",
    "\n",
    "def foo(x, y):\n",
    "    return 2 * x + y\n",
    "\n",
    "print(\"multiply(3, 4): \\t{}\".format(multiply(3, 4)))\n",
    "# Or you can specifically tell which arguments you want to set.\n",
    "print(\"foo(x=6, y=3):   \\t{}\".format(foo(x=6, y=3)))\n",
    "print(\"foo(y=6, x=2):   \\t{}\".format(foo(y=6, x=2)))\n",
    "# Or in python you can also do it the following way\n",
    "xy_list = [2.0, 5.0]\n",
    "print(\"mulitply(*xy_list):\\t{}\".format(multiply(*xy_list)))"
   ]
  },
  {
   "cell_type": "markdown",
   "metadata": {
    "deletable": true,
    "editable": true
   },
   "source": [
    "## Try, except"
   ]
  },
  {
   "cell_type": "code",
   "execution_count": null,
   "metadata": {
    "deletable": true,
    "editable": true
   },
   "outputs": [],
   "source": [
    "def intFromString(a_string):\n",
    "    try:\n",
    "        return int(a_string)\n",
    "    except ValueError:\n",
    "        print \"Oops! Couldn't convert the string to an integer.\"\n",
    "        return None\n",
    "\n",
    "a = intFromString(4)\n",
    "if a:\n",
    "    print(a)\n",
    "\n",
    "b = intFromString(\"hallo\")\n",
    "if b:\n",
    "    print(b)"
   ]
  },
  {
   "cell_type": "markdown",
   "metadata": {
    "deletable": true,
    "editable": true
   },
   "source": [
    "### Plotting"
   ]
  },
  {
   "cell_type": "code",
   "execution_count": null,
   "metadata": {
    "deletable": true,
    "editable": true
   },
   "outputs": [],
   "source": [
    "import matplotlib.pyplot as plt\n",
    "plt.plot([1, 6, 3, 4])\n",
    "plt.ylabel('An arbitrary set of numbers')\n",
    "plt.show(block=False)"
   ]
  },
  {
   "cell_type": "markdown",
   "metadata": {
    "deletable": true,
    "editable": true
   },
   "source": [
    "Or plotting x against y:"
   ]
  },
  {
   "cell_type": "code",
   "execution_count": null,
   "metadata": {
    "deletable": true,
    "editable": true
   },
   "outputs": [],
   "source": [
    "import numpy\n",
    "x = numpy.array([1,2,3,4])\n",
    "y = x**2\n",
    "plt.plot(x, y, 'ro')\n",
    "plt.axis([0, 6, 0, 20])\n",
    "plt.ylabel('$y = x^2$', fontsize=14)\n",
    "plt.xlabel('$x$', fontsize=14)\n",
    "plt.show(block=False)"
   ]
  },
  {
   "cell_type": "code",
   "execution_count": null,
   "metadata": {
    "deletable": true,
    "editable": true
   },
   "outputs": [],
   "source": [
    "# Evenly sampled time from 0.0s to 5.0s at 200ms intervals.\n",
    "t = np.arange(0., 5., 0.2)\n",
    "\n",
    "# Red dashes, blue squares and green triangles\n",
    "[a,b,c] =plt.plot(t, t, 'r--', t, t**2, 'bs', t, t**3, 'g^')\n",
    "plt.legend([a,b,c], [\"$f(t)=t$\",\"$f(t)=t^2$\",\"$f(t)=t^3$\"], loc='best', fancybox=True, framealpha=0.5)\n",
    "plt.legend()\n",
    "plt.ylabel('$f(t)$')\n",
    "plt.xlabel('$t$')\n",
    "plt.show(block=False)"
   ]
  },
  {
   "cell_type": "markdown",
   "metadata": {
    "deletable": true,
    "editable": true
   },
   "source": [
    "Or you can even animate plots"
   ]
  },
  {
   "cell_type": "markdown",
   "metadata": {
    "deletable": true,
    "editable": true
   },
   "source": [
    "**Note**: The following code just has to be executed to allow animations in this notebook."
   ]
  },
  {
   "cell_type": "code",
   "execution_count": null,
   "metadata": {
    "deletable": true,
    "editable": true
   },
   "outputs": [],
   "source": [
    "############# Ignore me and just execute :) #############\n",
    "from tempfile import NamedTemporaryFile\n",
    "\n",
    "VIDEO_TAG = \"\"\"<video controls>\n",
    " <source src=\"data:video/x-m4v;base64,{0}\" type=\"video/mp4\">\n",
    " Your browser does not support the video tag.\n",
    "</video>\"\"\"\n",
    "\n",
    "def anim_to_html(anim):\n",
    "    if not hasattr(anim, '_encoded_video'):\n",
    "        with NamedTemporaryFile(suffix='.mp4') as f:\n",
    "            anim.save(f.name, fps=20, extra_args=['-vcodec', 'libx264'])\n",
    "            video = open(f.name, \"rb\").read()\n",
    "        anim._encoded_video = video.encode(\"base64\")\n",
    "    \n",
    "    return VIDEO_TAG.format(anim._encoded_video)\n",
    "\n",
    "from IPython.display import HTML\n",
    "\n",
    "def display_animation(anim):\n",
    "    plt.close(anim._fig)\n",
    "    return HTML(anim_to_html(anim))"
   ]
  },
  {
   "cell_type": "code",
   "execution_count": null,
   "metadata": {
    "deletable": true,
    "editable": true
   },
   "outputs": [],
   "source": [
    "from matplotlib import animation\n",
    "\n",
    "# First set up the figure, the axis, and the plot element we want to animate\n",
    "fig = plt.figure()\n",
    "ax = plt.axes(xlim=(0, 2), ylim=(-2, 2))\n",
    "line, = ax.plot([], [], lw=2)\n",
    "\n",
    "# initialization function: plot the background of each frame\n",
    "def init():\n",
    "    line.set_data([], [])\n",
    "    return line,\n",
    "\n",
    "# animation function.  This is called sequentially\n",
    "def animate(i):\n",
    "    x = np.linspace(0, 2, 1000)\n",
    "    y = np.sin(2 * np.pi * (x - 0.01 * i))\n",
    "    line.set_data(x, y)\n",
    "    return line,\n",
    "\n",
    "# call the animator.  blit=True means only re-draw the parts that have changed.\n",
    "anim = animation.FuncAnimation(fig, animate, init_func=init,\n",
    "                               frames=100, interval=20, blit=True)\n",
    "\n",
    "# Call the previously defined function to display the animation in here\n",
    "display_animation(anim)\n"
   ]
  },
  {
   "cell_type": "code",
   "execution_count": null,
   "metadata": {
    "deletable": true,
    "editable": true
   },
   "outputs": [],
   "source": [
    "import numpy as np\n",
    "import matplotlib.pyplot as plt\n",
    "import sklearn\n",
    "from sklearn import datasets, linear_model\n",
    "\n",
    "# Create some random samples of two classes\n",
    "X, labels = datasets.make_blobs(centers=2, n_features=2, n_samples=300, center_box=(-1,1), cluster_std=0.4)\n",
    "plt.scatter(X[:,0], X[:,1], s=40, c=labels, cmap=plt.cm.Spectral)\n",
    "plt.show(block=False)"
   ]
  },
  {
   "cell_type": "code",
   "execution_count": null,
   "metadata": {
    "deletable": true,
    "editable": true
   },
   "outputs": [],
   "source": [
    "logistic_regression = linear_model.LogisticRegression()\n",
    "logistic_regression.fit(X, labels)\n",
    "\n",
    "mesh_step_size = 0.02\n",
    "\n",
    "# Plot the decision boundary. For that, we will assign a color to each\n",
    "# point in the mesh [x_min, x_max]x[y_min, y_max].\n",
    "x_min, x_max = X[:, 0].min() - .5, X[:, 0].max() + .5\n",
    "y_min, y_max = X[:, 1].min() - .5, X[:, 1].max() + .5\n",
    "xx, yy = np.meshgrid(np.arange(x_min, x_max, mesh_step_size), np.arange(y_min, y_max, mesh_step_size))\n",
    "predicted_label = logistic_regression.predict(np.c_[xx.ravel(), yy.ravel()])\n",
    "\n",
    "# Put the result into a color plot\n",
    "predicted_label = predicted_label.reshape(xx.shape)\n",
    "plt.figure(1, figsize=(4, 3))\n",
    "plt.pcolormesh(xx, yy, predicted_label, cmap=plt.cm.Spectral)\n",
    "\n",
    "# Plot also the training points\n",
    "plt.scatter(X[:, 0], X[:, 1], c=labels, cmap=plt.cm.Spectral)\n",
    "plt.xlabel('x')\n",
    "plt.ylabel('y')\n",
    "\n",
    "plt.xlim(xx.min(), xx.max())\n",
    "plt.ylim(yy.min(), yy.max())\n",
    "\n",
    "plt.show(block=False)"
   ]
  },
  {
   "cell_type": "markdown",
   "metadata": {
    "deletable": true,
    "editable": true
   },
   "source": [
    "## Classes"
   ]
  },
  {
   "cell_type": "code",
   "execution_count": null,
   "metadata": {
    "deletable": true,
    "editable": true
   },
   "outputs": [],
   "source": [
    "class Animal(object):\n",
    "\n",
    "    def __init__(self, name, animal_class, element):\n",
    "        self.name = name\n",
    "        self.animal_class = animal_class\n",
    "        self.element = element\n",
    "\n",
    "    def getClass(self):\n",
    "        return self.animal_class\n",
    "\n",
    "    def __str__(self):\n",
    "        return \"The {} is a {} and its habitat is {}.\".format(self.name, self.animal_class, self.element)\n",
    "    \n",
    "shark = Animal(\"shark\", \"fish\", \"water\")\n",
    "human = Animal(\"human\", \"mammal\", \"earth\")\n",
    "dolphin = Animal(\"dolphin\", \"mammal\", \"water\")\n",
    "\n",
    "print(shark)\n",
    "print(human)\n",
    "print(dolphin)"
   ]
  },
  {
   "cell_type": "markdown",
   "metadata": {
    "deletable": true,
    "editable": true
   },
   "source": [
    "### Class inheritance"
   ]
  },
  {
   "cell_type": "code",
   "execution_count": null,
   "metadata": {
    "deletable": true,
    "editable": true
   },
   "outputs": [],
   "source": [
    "class Fish(Animal):\n",
    "    def __init__(self, name, element):\n",
    "        self.name = name\n",
    "        self.animal_class = \"fish\"\n",
    "        self.element = element\n",
    "\n",
    "salmon = Fish(\"salmon\", \"water\")\n",
    "print(\"The class of a {} is {}.\".format(salmon.name, salmon.getClass()))\n",
    "\n",
    "print(salmon)"
   ]
  },
  {
   "cell_type": "markdown",
   "metadata": {
    "deletable": true,
    "editable": true
   },
   "source": [
    "### Abstract base classes"
   ]
  },
  {
   "cell_type": "code",
   "execution_count": null,
   "metadata": {
    "deletable": true,
    "editable": true
   },
   "outputs": [],
   "source": [
    "from abc import ABCMeta, abstractmethod\n",
    "\n",
    "class LivingThing(object):\n",
    "    __metaclass__ = ABCMeta\n",
    "    \n",
    "    @abstractmethod\n",
    "    def what(self):\n",
    "        pass\n",
    "        \n",
    "    def getName(self):\n",
    "        return self.name\n",
    "\n",
    "\n",
    "class Plant(LivingThing):\n",
    "    def __init__(self, name, element):\n",
    "        super(Plant, self).__init__()\n",
    "        self.name = name\n",
    "        self.element = element\n",
    "      # If this is not implemented it will through an error. (abstract methods always need to be implemented)\n",
    "#     def what(self):\n",
    "#         return \"I'm a plant\"\n",
    "\n",
    "LivingThing.register(Plant)\n",
    "assert issubclass(Plant, LivingThing)\n",
    "\n",
    "    \n",
    "rose = Plant(\"rose\", \"earth\")\n",
    "assert isinstance(rose, LivingThing)\n",
    "\n",
    "print(rose.what())\n",
    "print(rose.getName())"
   ]
  },
  {
   "cell_type": "code",
   "execution_count": null,
   "metadata": {
    "deletable": true,
    "editable": true
   },
   "outputs": [],
   "source": [
    "# class Animal(LivingThing):\n",
    "\n",
    "#     def __init__(self, name, animal_class, element):\n",
    "#         self.name = name\n",
    "#         self.animal_class = animal_class\n",
    "#         self.element = element\n",
    "\n",
    "#     def getClass(self):\n",
    "#         return self.animal_class\n",
    "\n",
    "#     def what(self):\n",
    "#         return \"I'm an animal\"\n",
    "\n",
    "#     def __str__(self):\n",
    "#         return \"The %s is a %s and its habitat is %s.\" % (self.name, self.animal_class, self.element)\n",
    "    \n",
    "# class Fish(Animal):\n",
    "#     def __init__(self, name, element):\n",
    "#         self.name = name\n",
    "#         self.animal_class = \"fish\"\n",
    "#         self.element = element\n",
    "\n",
    "# salmon = Fish(\"salmon\", \"water\")\n",
    "\n",
    "\n",
    "LivingThing.register(Animal)\n",
    "assert issubclass(Animal, LivingThing)\n",
    "assert isinstance(salmon, LivingThing)\n",
    "\n",
    "monkey = Animal(\"monkey\", \"mammal\", \"earth\")\n",
    "print(monkey.getName())\n",
    "print(salmon.getName())\n",
    "print(monkey.what())"
   ]
  },
  {
   "cell_type": "markdown",
   "metadata": {
    "deletable": true,
    "editable": true
   },
   "source": [
    "## Unit Testing\n",
    "\n",
    "Make your life easy and **write unit tests** of your implementations."
   ]
  },
  {
   "cell_type": "code",
   "execution_count": null,
   "metadata": {
    "deletable": true,
    "editable": true
   },
   "outputs": [],
   "source": [
    "import unittest\n",
    "\n",
    "class TestFunctions(unittest.TestCase):\n",
    "    \n",
    "    def test_addOne(self):\n",
    "        self.assertEqual(addOne(4), 5)\n",
    "\n",
    "    def test_multiply(self):\n",
    "        self.assertEqual(multiply(3, 4), 12)\n",
    "        self.assertEqual(multiply(3, 4), multiply(4, 3))  # Commutativity\n",
    "\n",
    "    def test_foo(self):  \n",
    "        # foo(x,y) returns 2 * x + y  (for your own sake (and whoever reads/uses your code) use better names)\n",
    "        self.assertTrue(foo(2, 1) == 5)\n",
    "        self.assertEqual(foo(2, 1), foo(1, 2))\n",
    "    \n",
    "\n",
    "if __name__ == '__main__':\n",
    "    unittest.main(argv=['first-arg-is-ignored', '-v'], exit=False)\n",
    "    \n",
    "    # **Note** If this is stored in a test file (e.g. test_implemented_functions.py)\n",
    "    # you can simply write the following here:\n",
    "    #     unittest.main()\n",
    "    \n",
    "    # This doesn't work here as the first command line argument(s) is/are passed \n",
    "    # to the unittest main, which here are the ones from opening"
   ]
  },
  {
   "cell_type": "markdown",
   "metadata": {
    "deletable": true,
    "editable": true
   },
   "source": [
    "You can check find all the availble checks here:\n",
    "\n",
    "https://docs.python.org/3/library/unittest.html"
   ]
  },
  {
   "cell_type": "markdown",
   "metadata": {
    "deletable": true,
    "editable": true
   },
   "source": [
    "# Thanks for sticking with us, we hope this was helpful :)"
   ]
  }
 ],
 "metadata": {
  "kernelspec": {
   "display_name": "Python 2",
   "language": "python",
   "name": "python2"
  },
  "language_info": {
   "codemirror_mode": {
    "name": "ipython",
    "version": 2
   },
   "file_extension": ".py",
   "mimetype": "text/x-python",
   "name": "python",
   "nbconvert_exporter": "python",
   "pygments_lexer": "ipython2"
  }
 },
 "nbformat": 4,
 "nbformat_minor": 2
}
