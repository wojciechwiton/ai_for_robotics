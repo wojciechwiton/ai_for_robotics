{
 "cells": [
  {
   "cell_type": "code",
   "execution_count": null,
   "metadata": {},
   "outputs": [],
   "source": [
    "#!/usr/bin/env python\n",
    "\n",
    "%run SamplePdf.ipynb\n",
    "\n",
    "# import SamplePdf\n",
    "import numpy as np\n",
    "import os\n",
    "from numpy.random import uniform\n",
    "import pickle as pkl\n",
    "\n",
    "num_samples = 5000\n",
    "\n",
    "uni_samples = np.zeros(num_samples)\n",
    "\n",
    "# TODO: draw uniform samples\n",
    "uni_samples = uniform(size=num_samples)\n",
    "\n",
    "# create instance of our new PDF sampler\n",
    "my_pdf_sampler = SamplePdf(num_samples)\n",
    "\n",
    "# feed the uniform samples and create our custom ones\n",
    "# TODO this function needs to be implemented in SamplePdf.py\n",
    "new_samples = my_pdf_sampler.sample_pdf(uni_samples)\n",
    "\n",
    "my_pdf_sampler.plot_result()\n",
    "\n",
    "# safe the result in a struct\n",
    "pkl.dump(new_samples, open(\"results.pkl\", 'wb'))"
   ]
  },
  {
   "cell_type": "code",
   "execution_count": null,
   "metadata": {},
   "outputs": [],
   "source": [
    "print('finished!')"
   ]
  },
  {
   "cell_type": "code",
   "execution_count": null,
   "metadata": {},
   "outputs": [],
   "source": []
  }
 ],
 "metadata": {
  "kernelspec": {
   "display_name": "Python 3",
   "language": "python",
   "name": "python3"
  },
  "language_info": {
   "codemirror_mode": {
    "name": "ipython",
    "version": 3
   },
   "file_extension": ".py",
   "mimetype": "text/x-python",
   "name": "python",
   "nbconvert_exporter": "python",
   "pygments_lexer": "ipython3"
  }
 },
 "nbformat": 4,
 "nbformat_minor": 1
}
