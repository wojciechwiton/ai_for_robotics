{
 "cells": [
  {
   "cell_type": "code",
   "execution_count": null,
   "metadata": {},
   "outputs": [],
   "source": [
    "map = np.array([1, 0, 0])\n",
    "probability_of_correct_measurement = 0.8\n",
    "measurement = 1\n",
    "likelihood = compute_likelihood(map, measurement, probability_of_correct_measurement)\n",
    "print(likelihood)"
   ]
  },
  {
   "cell_type": "code",
   "execution_count": null,
   "metadata": {},
   "outputs": [],
   "source": [
    "prior_belief = np.array([0.2, 0.2, 0.2])\n",
    "likelihood = np.array([0.8, 0.2, 0.2])\n",
    "posterior = measurement_update(prior_belief, likelihood)\n",
    "print(posterior)"
   ]
  },
  {
   "cell_type": "code",
   "execution_count": null,
   "metadata": {},
   "outputs": [],
   "source": [
    "movement = 1\n",
    "movement_noise_kernel = np.array([0.05, 0.8, 0.15])\n",
    "posterior_belief = np.array([0.66, 0.20, 0.14])\n",
    "# prior = [0.219 0.562 0.219]\n",
    "prior = prior_update(posterior_belief, 1, movement_noise_kernel)\n",
    "print(prior)\n",
    "prior = prior_update(posterior_belief, -1, movement_noise_kernel)\n",
    "print(prior)"
   ]
  },
  {
   "cell_type": "code",
   "execution_count": null,
   "metadata": {},
   "outputs": [],
   "source": [
    "#!/usr/bin/env python\n",
    "\n",
    "%run BayesianFiltering.ipynb\n",
    "\n",
    "import pickle as pkl\n",
    "import numpy as np\n",
    "# import BayesianFiltering\n",
    "\n",
    "class ProgrammaticError(Exception):\n",
    "    \"\"\"Exception raised when method gets called at a wrong time instance.\n",
    "  Attributes:\n",
    "      msg  -- The error message to be displayed.\n",
    "  \"\"\"\n",
    "\n",
    "    def __init__(self, msg):\n",
    "        self.msg = msg\n",
    "        print(\"\\033[91mERROR: \\x1b[0m {}\".format(msg))\n",
    "\n",
    "\n",
    "data = pkl.load(open(\"data_1.pkl\", 'rb'), encoding=\"Latin1\")\n",
    "measurements = data[0, :]\n",
    "motions = data[1, :]\n",
    "\n",
    "if (len(measurements) != len(motions)):\n",
    "    raise ProgrammaticError(\n",
    "        'Size of the measurements and motions needs to be the same!')\n",
    "\n",
    "# result = BayesianFiltering.run_bayes_filter(\n",
    "#     measurements, motions, plot_histogram=True)\n",
    "result = run_bayes_filter(\n",
    "    measurements, motions, plot_histogram=True)\n",
    "pkl.dump(result, open(\"result_bayes_1.pkl\", 'wb'))\n",
    "\n",
    "data = pkl.load(open(\"data_2.pkl\", 'rb'), encoding=\"Latin1\")\n",
    "measurements = data[0, :]\n",
    "motions = data[1, :]\n",
    "\n",
    "if (len(measurements) != len(motions)):\n",
    "    raise ProgrammaticError(\n",
    "        'Size of the measurements and motions needs to be the same!')\n",
    "\n",
    "# result = BayesianFiltering.run_bayes_filter(\n",
    "#     measurements, motions, plot_histogram=True)\n",
    "result = run_bayes_filter(\n",
    "    measurements, motions, plot_histogram=True)\n",
    "pkl.dump(result, open(\"result_bayes_2.pkl\", 'wb'))"
   ]
  },
  {
   "cell_type": "code",
   "execution_count": null,
   "metadata": {},
   "outputs": [],
   "source": []
  }
 ],
 "metadata": {
  "kernelspec": {
   "display_name": "Python 3",
   "language": "python",
   "name": "python3"
  },
  "language_info": {
   "codemirror_mode": {
    "name": "ipython",
    "version": 3
   },
   "file_extension": ".py",
   "mimetype": "text/x-python",
   "name": "python",
   "nbconvert_exporter": "python",
   "pygments_lexer": "ipython3"
  }
 },
 "nbformat": 4,
 "nbformat_minor": 1
}
