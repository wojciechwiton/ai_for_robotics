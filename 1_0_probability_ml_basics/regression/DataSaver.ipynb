{
 "cells": [
  {
   "cell_type": "code",
   "execution_count": null,
   "metadata": {},
   "outputs": [],
   "source": [
    "import numpy as np\n",
    "import pickle as pkl\n",
    "import os\n",
    "\n",
    "\n",
    "class DataSaver():\n",
    "\n",
    "    directory = ''\n",
    "    filename = ''\n",
    "    path = ''\n",
    "\n",
    "    def __init__(self, directory, filename):\n",
    "        self.directory = directory\n",
    "        self.filename = filename\n",
    "        self.path = os.path.join(self.directory, self.filename)\n",
    "        if not os.path.exists(self.directory):\n",
    "            os.mkdir(self.directory)\n",
    "\n",
    "    def save_to_file(self, input_data, output_data):\n",
    "        data = np.hstack([input_data, output_data])\n",
    "        print('Saving data to relative path {}'.format(self.path))\n",
    "        pkl.dump(data, open(self.path, 'wb'))\n",
    "\n",
    "    def restore_from_file(self):\n",
    "        data = pkl.load(open(self.path, 'rb'), encoding=\"Latin1\")\n",
    "        # TODO adapt the following two lines, such that it works for the 4dimensional input \n",
    "        input_data = data[:, 0:4]\n",
    "        output_data = np.reshape(data[:, 4], [data[:, 4].shape[0], 1])\n",
    "        return input_data, output_data\n",
    "\n",
    "    def load_submission(self):\n",
    "        data = pkl.load(open(self.path, 'rb'), encoding=\"Latin1\")\n",
    "        input_data = data[:, 0:4]\n",
    "        return input_data\n",
    "\n"
   ]
  }
 ],
 "metadata": {
  "kernelspec": {
   "display_name": "Python 3",
   "language": "python",
   "name": "python3"
  },
  "language_info": {
   "codemirror_mode": {
    "name": "ipython",
    "version": 3
   },
   "file_extension": ".py",
   "mimetype": "text/x-python",
   "name": "python",
   "nbconvert_exporter": "python",
   "pygments_lexer": "ipython3"
  }
 },
 "nbformat": 4,
 "nbformat_minor": 1
}
